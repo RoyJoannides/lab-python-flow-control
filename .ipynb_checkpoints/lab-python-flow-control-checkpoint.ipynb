{
 "cells": [
  {
   "cell_type": "markdown",
   "id": "d3bfc191-8885-42ee-b0a0-bbab867c6f9f",
   "metadata": {
    "tags": []
   },
   "source": [
    "# Lab | Flow Control"
   ]
  },
  {
   "cell_type": "markdown",
   "id": "3851fcd1-cf98-4653-9c89-e003b7ec9400",
   "metadata": {},
   "source": [
    "## Exercise: Managing Customer Orders Optimized\n",
    "\n",
    "In the last lab, you were starting an online store that sells various products. To ensure smooth operations, you developed a program that manages customer orders and inventory.\n",
    "\n",
    "You did so without using flow control. Let's go a step further and improve this code.\n",
    "\n",
    "Follow the steps below to complete the exercise:\n",
    "\n",
    "1. Look at your code from the lab data structures, and improve repeated code with loops.\n",
    "\n",
    "2. Instead of asking the user to input the name of three products that a customer wants to order, do the following:\n",
    "    \n",
    "    a. Prompt the user to enter the name of a product that a customer wants to order.\n",
    "    \n",
    "    b. Add the product name to the \"customer_orders\" set.\n",
    "    \n",
    "    c. Ask the user if they want to add another product (yes/no).\n",
    "    \n",
    "    d. Continue the loop until the user does not want to add another product.\n",
    "\n",
    "3. Instead of updating the inventory by subtracting 1 from the quantity of each product, only do it for  the products that were ordered (those in \"customer_orders\")."
   ]
  },
  {
   "cell_type": "code",
   "execution_count": null,
   "id": "37e30089",
   "metadata": {},
   "outputs": [],
   "source": [
    "# Define a list called products that contains the following items: \"t-shirt\", \"mug\", \"hat\", \"book\", \"keychain\".\n",
    "products = [\"t-shirt\", \"mug\", \"hat\", \"book\", \"keychain\"]\n",
    "\n",
    "# Create an empty dictionary called inventory.\n",
    "inventory = {}\n",
    "\n",
    "# Loop to get the quantity of each product in the inventory\n",
    "for product in products:\n",
    "    quantity = int(input(f\"Enter the quantity of each {product}: \"))\n",
    "    inventory[product] = quantity\n",
    "\n",
    "print(\"Inventory update successful\")\n",
    "print(\"Updated inventory:\", inventory)\n",
    "\n",
    "# Create an empty set called customer_orders\n",
    "customer_orders = set()\n",
    "\n",
    "# Loop to ask the user to enter the name of a product that a customer wants to order\n",
    "while True:\n",
    "    product = input(\"Enter the name of the product you would like to order (t-shirt, mug, hat, book, keychain): \")\n",
    "\n",
    "    if product in products:\n",
    "        customer_orders.add(product)\n",
    "    else:\n",
    "        print(\"Invalid product. Please choose one of our products.\")\n",
    "        continue\n",
    "\n",
    "    while True:\n",
    "        another_product = input(\"Do you want to add another product? (yes/no): \").lower()\n",
    "        if another_product in ['yes', 'no']:\n",
    "            break\n",
    "        else:\n",
    "            print(\"Invalid input. Please enter 'yes' or 'no'.\")\n",
    "\n",
    "    if another_product != 'yes':\n",
    "        break\n",
    "\n",
    "# Print the products in the customer_orders set\n",
    "print(\"Products in customer orders:\", customer_orders)\n",
    "\n",
    "# Calculate order statistics\n",
    "total_products_ordered = len(customer_orders)\n",
    "percentage_ordered = (total_products_ordered / len(products)) * 100\n",
    "order_status = (total_products_ordered, percentage_ordered)\n",
    "\n",
    "print(\"\\nOrder Statistics:\")\n",
    "print(\"Total Products Ordered:\", total_products_ordered)\n",
    "print(\"Percentage of Products Ordered: {:.2f}%\".format(percentage_ordered))\n",
    "\n",
    "# Update the inventory by subtracting 1 from the quantity of each ordered product\n",
    "for product in customer_orders:\n",
    "    inventory[product] -= 1\n",
    "\n",
    "# Print the updated inventory\n",
    "print(\"\\nUpdated Inventory:\")\n",
    "for product, quantity in inventory.items():\n",
    "    print(f\"{product}s: {quantity}\")\n"
   ]
  },
  {
   "cell_type": "code",
   "execution_count": null,
   "id": "1fcd43d9",
   "metadata": {},
   "outputs": [],
   "source": []
  }
 ],
 "metadata": {
  "kernelspec": {
   "display_name": "Python 3 (ipykernel)",
   "language": "python",
   "name": "python3"
  },
  "language_info": {
   "codemirror_mode": {
    "name": "ipython",
    "version": 3
   },
   "file_extension": ".py",
   "mimetype": "text/x-python",
   "name": "python",
   "nbconvert_exporter": "python",
   "pygments_lexer": "ipython3",
   "version": "3.11.5"
  }
 },
 "nbformat": 4,
 "nbformat_minor": 5
}
